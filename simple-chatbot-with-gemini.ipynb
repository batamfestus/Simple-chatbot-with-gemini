{
 "cells": [
  {
   "cell_type": "markdown",
   "id": "766a44f3-2352-48a2-a168-78d0bb0493e5",
   "metadata": {},
   "source": [
    "# 🤖 Let's Build a Simple Chatbot!\n",
    "\n",
    "Welcome! Today, we're diving into an exciting project — **building a simple chatbot** using the power of the **Gemini API**.\n",
    "\n",
    "---\n",
    "\n",
    "## 🔧 Step 1: Setting Up the SDK & Authentication\n",
    "\n",
    "Before we start chatting with our bot, let’s get everything ready. We’ll begin by:\n",
    "\n",
    "- Installing the required **SDK**\n",
    "- Configuring **authentication** to securely access the Gemini API\n",
    "\n",
    "Let’s roll! 🚀\n"
   ]
  },
  {
   "cell_type": "code",
   "execution_count": 24,
   "id": "c2425433-b3ab-4b36-8c1f-13ab36e6cb7c",
   "metadata": {},
   "outputs": [
    {
     "data": {
      "text/plain": [
       "True"
      ]
     },
     "execution_count": 24,
     "metadata": {},
     "output_type": "execute_result"
    }
   ],
   "source": [
    "from dotenv import load_dotenv, find_dotenv\n",
    "load_dotenv(find_dotenv(), override=True)"
   ]
  },
  {
   "cell_type": "code",
   "execution_count": 25,
   "id": "8a6f64ac-b33a-4344-b862-a1818416d1dc",
   "metadata": {},
   "outputs": [],
   "source": [
    "import os\n",
    "import time\n",
    "import google.generativeai as genai"
   ]
  },
  {
   "cell_type": "code",
   "execution_count": 26,
   "id": "a4e88b9e-e087-4964-9b77-946831abaee0",
   "metadata": {},
   "outputs": [],
   "source": [
    "api_key = os.environ.get(\"YOUR API KEY HERE\")\n",
    "genai.configure(api_key=api_key)"
   ]
  },
  {
   "cell_type": "code",
   "execution_count": 31,
   "id": "4d9a868c-b45e-40b5-bc9a-cf37757034e3",
   "metadata": {},
   "outputs": [
    {
     "name": "stdin",
     "output_type": "stream",
     "text": [
      "\n",
      "🧠 You are an Intelligent English Language and Linguistics Assistant with years of experience in and out of the classroom.\n",
      "Your role is to answer users' questions clearly and simply, using easy-to-understand English.\n",
      "Before responding, carefully consider the question to provide the most helpful and accurate answer possible.\n",
      "\n",
      "💬 Enter your custom instruction (or leave blank to use the default):  \n"
     ]
    },
    {
     "name": "stdout",
     "output_type": "stream",
     "text": [
      "\n",
      "🤖 Chatbot is ready! Type your message below.\n",
      "💡 To end the conversation, type: exit, quit, bye, goodbye, or off.\n",
      "\n"
     ]
    },
    {
     "name": "stdin",
     "output_type": "stream",
     "text": [
      "User:  hello\n"
     ]
    },
    {
     "name": "stdout",
     "output_type": "stream",
     "text": [
      "\n",
      "Hello! How can I help you today?\n",
      "\n",
      "\n"
     ]
    },
    {
     "name": "stdin",
     "output_type": "stream",
     "text": [
      "User:  my name is batam\n"
     ]
    },
    {
     "name": "stdout",
     "output_type": "stream",
     "text": [
      "\n",
      "Nice to meet you, Batam!\n",
      "\n",
      "\n"
     ]
    },
    {
     "name": "stdin",
     "output_type": "stream",
     "text": [
      "User:  what is a verb\n"
     ]
    },
    {
     "name": "stdout",
     "output_type": "stream",
     "text": [
      "\n",
      "A verb is a word that shows an action, occurrence, or state of being.\n",
      "\n",
      "Think of it this way: a verb tells you what the subject of a sentence *does* or *is*.\n",
      "\n",
      "Examples:\n",
      "\n",
      "*   **Run** (action): The dog **runs** fast.\n",
      "*   **Become** (occurrence): The leaves **become** brown in autumn.\n",
      "*   **Is** (state of being): She **is** happy.\n",
      "\n",
      "\n"
     ]
    },
    {
     "name": "stdin",
     "output_type": "stream",
     "text": [
      "User:  quit\n"
     ]
    },
    {
     "name": "stdout",
     "output_type": "stream",
     "text": [
      "\n",
      "🔌 Ending conversation...\n",
      "👋 Conversation Ended. Have a great day!\n",
      "\n",
      "============================== CHAT HISTORY ==============================\n",
      "\n",
      "User:\n",
      "You are an Intelligent English Language and Linguistics AI Assistant. Answer questions clearly and concisely, using simple, easy-to-understand English. Think carefully before responding.\n",
      "--------------------------------------------------------------------------------\n",
      "Model:\n",
      "Understood. I will do my best to provide clear and concise answers using simple language. Ask away!\n",
      "\n",
      "--------------------------------------------------------------------------------\n",
      "User:\n",
      "hello\n",
      "--------------------------------------------------------------------------------\n",
      "Model:\n",
      "Hello! How can I help you today?\n",
      "\n",
      "--------------------------------------------------------------------------------\n",
      "User:\n",
      "my name is batam\n",
      "--------------------------------------------------------------------------------\n",
      "Model:\n",
      "Nice to meet you, Batam!\n",
      "\n",
      "--------------------------------------------------------------------------------\n",
      "User:\n",
      "what is a verb\n",
      "--------------------------------------------------------------------------------\n",
      "Model:\n",
      "A verb is a word that shows an action, occurrence, or state of being.\n",
      "\n",
      "Think of it this way: a verb tells you what the subject of a sentence *does* or *is*.\n",
      "\n",
      "Examples:\n",
      "\n",
      "*   **Run** (action): The dog **runs** fast.\n",
      "*   **Become** (occurrence): The leaves **become** brown in autumn.\n",
      "*   **Is** (state of being): She **is** happy.\n",
      "\n",
      "--------------------------------------------------------------------------------\n",
      "\n",
      "✅ Session ended. Have a WONDERFUL DAY! 🚀\n"
     ]
    }
   ],
   "source": [
    "import google.generativeai as genai\n",
    "import time\n",
    "import random  # Needed for streaming simulation\n",
    "\n",
    "# === Configure Gemini API ===\n",
    "genai.configure(api_key=api_key)\n",
    "\n",
    "# === Safety Settings ===\n",
    "safety_settings = [\n",
    "    {\n",
    "        \"category\": \"HARM_CATEGORY_HARASSMENT\",\n",
    "        \"threshold\": \"BLOCK_MEDIUM_AND_ABOVE\",\n",
    "    },\n",
    "]\n",
    "\n",
    "# === Get Custom Instruction ===\n",
    "instruction = input(\n",
    "    \"\\n🧠 You are an Intelligent English Language and Linguistics Assistant with years of experience in and out of the classroom.\\n\"\n",
    "    \"Your role is to answer users' questions clearly and simply, using easy-to-understand English.\\n\"\n",
    "    \"Before responding, carefully consider the question to provide the most helpful and accurate answer possible.\\n\\n\"\n",
    "    \"💬 Enter your custom instruction (or leave blank to use the default): \"\n",
    ").strip()\n",
    "\n",
    "if not instruction:\n",
    "    instruction = (\n",
    "        \"You are an Intelligent English Language and Linguistics AI Assistant. Answer questions clearly and concisely, \"\n",
    "        \"using simple, easy-to-understand English. Think carefully before responding.\"\n",
    "    )\n",
    "\n",
    "# === Generation Configuration ===\n",
    "generation_config = {\n",
    "    \"max_output_tokens\": 400,\n",
    "    \"top_k\": 2,\n",
    "    \"top_p\": 0.5,\n",
    "    \"temperature\": 0,\n",
    "}\n",
    "\n",
    "# === Initialize the Model and Chat Session ===\n",
    "model = genai.GenerativeModel(\n",
    "    model_name=\"gemini-2.0-flash\",\n",
    "    generation_config=generation_config,\n",
    "    safety_settings=safety_settings\n",
    ")\n",
    "\n",
    "chat = model.start_chat(history=[])\n",
    "chat.send_message(instruction)\n",
    "\n",
    "# === Exit Commands ===\n",
    "exit_commands = ['exit', 'quit', 'bye', 'goodbye', 'off']\n",
    "\n",
    "print(\"\\n🤖 Chatbot is ready! Type your message below.\")\n",
    "print(\"💡 To end the conversation, type: exit, quit, bye, goodbye, or off.\\n\")\n",
    "\n",
    "# === Chat Loop ===\n",
    "while True:\n",
    "    try:\n",
    "        prompt = input(\"User: \").strip()\n",
    "\n",
    "        if prompt.lower() in exit_commands:\n",
    "            print(\"\\n🔌 Ending conversation...\")\n",
    "            time.sleep(1.5)\n",
    "            print(\"👋 Conversation Ended. Have a great day!\")\n",
    "            break\n",
    "\n",
    "        # Stream AI response\n",
    "        print(\"\\nAI: \", end=\"\", flush=True)\n",
    "        response = chat.send_message(prompt, stream=True)\n",
    "\n",
    "        full_response = []\n",
    "        for chunk in response:\n",
    "            if chunk.text:\n",
    "                for char in chunk.text:\n",
    "                    print(char, end=\"\", flush=True)\n",
    "                    time.sleep(random.uniform(0.02, 0.05))\n",
    "                full_response.append(chunk.text)\n",
    "        print(\"\\n\")\n",
    "\n",
    "    except Exception as e:\n",
    "        print(f\"\\n⚠️ [Error] {e}\")\n",
    "\n",
    "# === Display Chat History ===\n",
    "if chat.history:\n",
    "    print(\"\\n\" + \"=\" * 30 + \" CHAT HISTORY \" + \"=\" * 30 + \"\\n\")\n",
    "    for message in chat.history:\n",
    "        role = message.role.capitalize()\n",
    "        content = message.parts[0].text\n",
    "        print(f\"{role}:\\n{content}\\n{'-' * 80}\")\n",
    "else:\n",
    "    print(\"\\n📭 No chat history available.\")\n",
    "\n",
    "print(\"\\n✅ Session ended. Have a WONDERFUL DAY! 🚀\")\n"
   ]
  },
  {
   "cell_type": "code",
   "execution_count": null,
   "id": "d3c27676-a1b0-4cfd-9306-6b7de955e53f",
   "metadata": {},
   "outputs": [],
   "source": []
  }
 ],
 "metadata": {
  "kernelspec": {
   "display_name": "Python 3 (ipykernel)",
   "language": "python",
   "name": "python3"
  },
  "language_info": {
   "codemirror_mode": {
    "name": "ipython",
    "version": 3
   },
   "file_extension": ".py",
   "mimetype": "text/x-python",
   "name": "python",
   "nbconvert_exporter": "python",
   "pygments_lexer": "ipython3",
   "version": "3.13.2"
  }
 },
 "nbformat": 4,
 "nbformat_minor": 5
}
